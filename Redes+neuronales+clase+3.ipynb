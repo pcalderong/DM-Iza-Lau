{
 "cells": [
  {
   "cell_type": "code",
   "execution_count": 91,
   "metadata": {
    "collapsed": true
   },
   "outputs": [],
   "source": [
    "import sklearn\n",
    "import pandas as pd\n",
    "import matplotlib.pyplot as plt\n",
    "%matplotlib inline\n",
    "import numpy \n",
    "import pandas\n",
    "from sklearn.model_selection import train_test_split"
   ]
  },
  {
   "cell_type": "code",
   "execution_count": 92,
   "metadata": {},
   "outputs": [
    {
     "data": {
      "text/html": [
       "<div>\n",
       "<style>\n",
       "    .dataframe thead tr:only-child th {\n",
       "        text-align: right;\n",
       "    }\n",
       "\n",
       "    .dataframe thead th {\n",
       "        text-align: left;\n",
       "    }\n",
       "\n",
       "    .dataframe tbody tr th {\n",
       "        vertical-align: top;\n",
       "    }\n",
       "</style>\n",
       "<table border=\"1\" class=\"dataframe\">\n",
       "  <thead>\n",
       "    <tr style=\"text-align: right;\">\n",
       "      <th></th>\n",
       "      <th>AFFX-BioB-5</th>\n",
       "      <th>AFFX-BioB-M</th>\n",
       "      <th>AFFX-BioB-3</th>\n",
       "      <th>AFFX-BioC-5</th>\n",
       "      <th>AFFX-BioC-3</th>\n",
       "      <th>AFFX-BioDn-5</th>\n",
       "      <th>AFFX-BioDn-3</th>\n",
       "      <th>AFFX-CreX-5</th>\n",
       "      <th>AFFX-CreX-3</th>\n",
       "      <th>AFFX-BioB-5_st</th>\n",
       "      <th>...</th>\n",
       "      <th>EST: Human fetal brain cDNA 3'-end GEN-120A01, mRNA sequence. (from Genbank)</th>\n",
       "      <th>EST: Human fetal brain cDNA 3'-end GEN-120A10, mRNA sequence. (from Genbank)</th>\n",
       "      <th>Homo sapiens mRNA for KIAA0903 protein, partial cds</th>\n",
       "      <th>EST: Human fetal brain cDNA 3'-end GEN-124C08, mRNA sequence. (from Genbank)</th>\n",
       "      <th>EST: Human fetal brain cDNA 3'-end GEN-126C02, mRNA sequence. (from Genbank)</th>\n",
       "      <th>EST: Human fetal brain cDNA 3'-end GEN-126H02, mRNA sequence. (from Genbank)</th>\n",
       "      <th>EST: Human fetal brain cDNA 3'-end GEN-129E11, mRNA sequence. (from Genbank)</th>\n",
       "      <th>EST: Human fetal brain cDNA 3'-end GEN-131C03, mRNA sequence. (from Genbank)</th>\n",
       "      <th>EST: Human fetal brain cDNA 3'-end GEN-131C03, mRNA sequence. (from Genbank).1</th>\n",
       "      <th>clase_III</th>\n",
       "    </tr>\n",
       "  </thead>\n",
       "  <tbody>\n",
       "    <tr>\n",
       "      <th>0</th>\n",
       "      <td>-64.3</td>\n",
       "      <td>-184.9</td>\n",
       "      <td>-334.4</td>\n",
       "      <td>-102.2</td>\n",
       "      <td>-289.0</td>\n",
       "      <td>-145.2</td>\n",
       "      <td>-251.9</td>\n",
       "      <td>-150.9</td>\n",
       "      <td>-184.0</td>\n",
       "      <td>179.1</td>\n",
       "      <td>...</td>\n",
       "      <td>1324.6</td>\n",
       "      <td>9.8</td>\n",
       "      <td>127.7</td>\n",
       "      <td>244.0</td>\n",
       "      <td>76.5</td>\n",
       "      <td>100.1</td>\n",
       "      <td>-69.6</td>\n",
       "      <td>-1444.3</td>\n",
       "      <td>-121.6</td>\n",
       "      <td>Tumor</td>\n",
       "    </tr>\n",
       "    <tr>\n",
       "      <th>1</th>\n",
       "      <td>-13.0</td>\n",
       "      <td>-124.0</td>\n",
       "      <td>-206.0</td>\n",
       "      <td>-29.0</td>\n",
       "      <td>-117.0</td>\n",
       "      <td>-114.0</td>\n",
       "      <td>111.0</td>\n",
       "      <td>-20.0</td>\n",
       "      <td>-25.0</td>\n",
       "      <td>18.0</td>\n",
       "      <td>...</td>\n",
       "      <td>695.0</td>\n",
       "      <td>10.0</td>\n",
       "      <td>57.0</td>\n",
       "      <td>-50.0</td>\n",
       "      <td>-45.0</td>\n",
       "      <td>-61.0</td>\n",
       "      <td>-22.0</td>\n",
       "      <td>-263.0</td>\n",
       "      <td>-52.0</td>\n",
       "      <td>Tumor</td>\n",
       "    </tr>\n",
       "    <tr>\n",
       "      <th>2</th>\n",
       "      <td>-33.0</td>\n",
       "      <td>-39.0</td>\n",
       "      <td>-45.0</td>\n",
       "      <td>14.0</td>\n",
       "      <td>-56.0</td>\n",
       "      <td>-106.0</td>\n",
       "      <td>73.0</td>\n",
       "      <td>-34.0</td>\n",
       "      <td>18.0</td>\n",
       "      <td>64.0</td>\n",
       "      <td>...</td>\n",
       "      <td>398.0</td>\n",
       "      <td>38.0</td>\n",
       "      <td>215.0</td>\n",
       "      <td>-2.0</td>\n",
       "      <td>44.0</td>\n",
       "      <td>3.0</td>\n",
       "      <td>68.0</td>\n",
       "      <td>-293.0</td>\n",
       "      <td>-34.0</td>\n",
       "      <td>Tumor</td>\n",
       "    </tr>\n",
       "    <tr>\n",
       "      <th>3</th>\n",
       "      <td>-44.0</td>\n",
       "      <td>-254.0</td>\n",
       "      <td>-166.0</td>\n",
       "      <td>-55.0</td>\n",
       "      <td>-130.0</td>\n",
       "      <td>-133.0</td>\n",
       "      <td>80.0</td>\n",
       "      <td>-62.0</td>\n",
       "      <td>1.0</td>\n",
       "      <td>22.0</td>\n",
       "      <td>...</td>\n",
       "      <td>715.0</td>\n",
       "      <td>25.0</td>\n",
       "      <td>47.0</td>\n",
       "      <td>-270.0</td>\n",
       "      <td>-265.0</td>\n",
       "      <td>-290.0</td>\n",
       "      <td>-235.0</td>\n",
       "      <td>-826.0</td>\n",
       "      <td>-262.0</td>\n",
       "      <td>Tumor</td>\n",
       "    </tr>\n",
       "    <tr>\n",
       "      <th>4</th>\n",
       "      <td>-18.0</td>\n",
       "      <td>28.0</td>\n",
       "      <td>10.0</td>\n",
       "      <td>30.0</td>\n",
       "      <td>-56.0</td>\n",
       "      <td>-200.0</td>\n",
       "      <td>149.0</td>\n",
       "      <td>-87.0</td>\n",
       "      <td>-2.0</td>\n",
       "      <td>95.0</td>\n",
       "      <td>...</td>\n",
       "      <td>171.0</td>\n",
       "      <td>-24.0</td>\n",
       "      <td>80.0</td>\n",
       "      <td>-102.0</td>\n",
       "      <td>-5.0</td>\n",
       "      <td>1.0</td>\n",
       "      <td>18.0</td>\n",
       "      <td>-266.0</td>\n",
       "      <td>-13.0</td>\n",
       "      <td>Tumor</td>\n",
       "    </tr>\n",
       "  </tbody>\n",
       "</table>\n",
       "<p>5 rows × 16064 columns</p>\n",
       "</div>"
      ],
      "text/plain": [
       "   AFFX-BioB-5  AFFX-BioB-M  AFFX-BioB-3  AFFX-BioC-5  AFFX-BioC-3  \\\n",
       "0        -64.3       -184.9       -334.4       -102.2       -289.0   \n",
       "1        -13.0       -124.0       -206.0        -29.0       -117.0   \n",
       "2        -33.0        -39.0        -45.0         14.0        -56.0   \n",
       "3        -44.0       -254.0       -166.0        -55.0       -130.0   \n",
       "4        -18.0         28.0         10.0         30.0        -56.0   \n",
       "\n",
       "   AFFX-BioDn-5  AFFX-BioDn-3  AFFX-CreX-5  AFFX-CreX-3  AFFX-BioB-5_st  \\\n",
       "0        -145.2        -251.9       -150.9       -184.0           179.1   \n",
       "1        -114.0         111.0        -20.0        -25.0            18.0   \n",
       "2        -106.0          73.0        -34.0         18.0            64.0   \n",
       "3        -133.0          80.0        -62.0          1.0            22.0   \n",
       "4        -200.0         149.0        -87.0         -2.0            95.0   \n",
       "\n",
       "     ...      \\\n",
       "0    ...       \n",
       "1    ...       \n",
       "2    ...       \n",
       "3    ...       \n",
       "4    ...       \n",
       "\n",
       "   EST: Human fetal brain cDNA 3'-end GEN-120A01, mRNA sequence. (from Genbank)  \\\n",
       "0                                             1324.6                              \n",
       "1                                              695.0                              \n",
       "2                                              398.0                              \n",
       "3                                              715.0                              \n",
       "4                                              171.0                              \n",
       "\n",
       "   EST: Human fetal brain cDNA 3'-end GEN-120A10, mRNA sequence. (from Genbank)  \\\n",
       "0                                                9.8                              \n",
       "1                                               10.0                              \n",
       "2                                               38.0                              \n",
       "3                                               25.0                              \n",
       "4                                              -24.0                              \n",
       "\n",
       "   Homo sapiens mRNA for KIAA0903 protein, partial cds  \\\n",
       "0                                              127.7     \n",
       "1                                               57.0     \n",
       "2                                              215.0     \n",
       "3                                               47.0     \n",
       "4                                               80.0     \n",
       "\n",
       "   EST: Human fetal brain cDNA 3'-end GEN-124C08, mRNA sequence. (from Genbank)  \\\n",
       "0                                              244.0                              \n",
       "1                                              -50.0                              \n",
       "2                                               -2.0                              \n",
       "3                                             -270.0                              \n",
       "4                                             -102.0                              \n",
       "\n",
       "   EST: Human fetal brain cDNA 3'-end GEN-126C02, mRNA sequence. (from Genbank)  \\\n",
       "0                                               76.5                              \n",
       "1                                              -45.0                              \n",
       "2                                               44.0                              \n",
       "3                                             -265.0                              \n",
       "4                                               -5.0                              \n",
       "\n",
       "   EST: Human fetal brain cDNA 3'-end GEN-126H02, mRNA sequence. (from Genbank)  \\\n",
       "0                                              100.1                              \n",
       "1                                              -61.0                              \n",
       "2                                                3.0                              \n",
       "3                                             -290.0                              \n",
       "4                                                1.0                              \n",
       "\n",
       "   EST: Human fetal brain cDNA 3'-end GEN-129E11, mRNA sequence. (from Genbank)  \\\n",
       "0                                              -69.6                              \n",
       "1                                              -22.0                              \n",
       "2                                               68.0                              \n",
       "3                                             -235.0                              \n",
       "4                                               18.0                              \n",
       "\n",
       "   EST: Human fetal brain cDNA 3'-end GEN-131C03, mRNA sequence. (from Genbank)  \\\n",
       "0                                            -1444.3                              \n",
       "1                                             -263.0                              \n",
       "2                                             -293.0                              \n",
       "3                                             -826.0                              \n",
       "4                                             -266.0                              \n",
       "\n",
       "   EST: Human fetal brain cDNA 3'-end GEN-131C03, mRNA sequence. (from Genbank).1  \\\n",
       "0                                             -121.6                                \n",
       "1                                              -52.0                                \n",
       "2                                              -34.0                                \n",
       "3                                             -262.0                                \n",
       "4                                              -13.0                                \n",
       "\n",
       "   clase_III  \n",
       "0      Tumor  \n",
       "1      Tumor  \n",
       "2      Tumor  \n",
       "3      Tumor  \n",
       "4      Tumor  \n",
       "\n",
       "[5 rows x 16064 columns]"
      ]
     },
     "execution_count": 92,
     "metadata": {},
     "output_type": "execute_result"
    }
   ],
   "source": [
    "import pandas\n",
    "datos = pandas.read_csv('finales_clase3.csv', sep=';')\n",
    "datos.head()"
   ]
  },
  {
   "cell_type": "code",
   "execution_count": 93,
   "metadata": {
    "collapsed": true
   },
   "outputs": [],
   "source": [
    "from sklearn import preprocessing\n",
    "import numpy as np"
   ]
  },
  {
   "cell_type": "code",
   "execution_count": 94,
   "metadata": {},
   "outputs": [
    {
     "name": "stdout",
     "output_type": "stream",
     "text": [
      "(280, 16063)\n",
      "(280,)\n"
     ]
    }
   ],
   "source": [
    "X=datos.drop('clase_III',axis=1)\n",
    "Y=datos['clase_III']\n",
    "print(X.shape)\n",
    "print(Y.shape)"
   ]
  },
  {
   "cell_type": "code",
   "execution_count": 95,
   "metadata": {},
   "outputs": [
    {
     "name": "stdout",
     "output_type": "stream",
     "text": [
      "X_train tiene 187 elementos.\n",
      "X_test tiene 93 elementos.\n",
      "y_train tiene 187 elementos.\n",
      "y_test tiene 93 elementos.\n"
     ]
    }
   ],
   "source": [
    "X_train, X_test, y_train, y_test = train_test_split(X, Y, test_size = 0.33, shuffle=True)\n",
    "subsets = X_train, X_test, y_train, y_test \n",
    "print (\"X_train tiene\", len(X_train), \"elementos.\")\n",
    "print (\"X_test tiene\", len(X_test), \"elementos.\")\n",
    "print (\"y_train tiene\", len(y_train), \"elementos.\")\n",
    "print (\"y_test tiene\", len(y_test), \"elementos.\")"
   ]
  },
  {
   "cell_type": "code",
   "execution_count": 96,
   "metadata": {
    "collapsed": true
   },
   "outputs": [],
   "source": [
    "from sklearn.model_selection import train_test_split\n",
    "X_train, X_test, y_train, y_test = train_test_split(X, Y)"
   ]
  },
  {
   "cell_type": "code",
   "execution_count": 97,
   "metadata": {},
   "outputs": [
    {
     "data": {
      "text/plain": [
       "StandardScaler(copy=True, with_mean=True, with_std=True)"
      ]
     },
     "execution_count": 97,
     "metadata": {},
     "output_type": "execute_result"
    }
   ],
   "source": [
    "from sklearn.preprocessing import StandardScaler\n",
    "scaler = StandardScaler()\n",
    "scaler.fit(X_train)"
   ]
  },
  {
   "cell_type": "code",
   "execution_count": 98,
   "metadata": {
    "collapsed": true
   },
   "outputs": [],
   "source": [
    "X_train = scaler.transform(X_train)\n",
    "X_test = scaler.transform(X_test)"
   ]
  },
  {
   "cell_type": "code",
   "execution_count": 99,
   "metadata": {
    "collapsed": true
   },
   "outputs": [],
   "source": [
    "from sklearn.neural_network import MLPClassifier"
   ]
  },
  {
   "cell_type": "code",
   "execution_count": 100,
   "metadata": {
    "collapsed": true
   },
   "outputs": [],
   "source": [
    "mlp = MLPClassifier(hidden_layer_sizes=(30,30,30))"
   ]
  },
  {
   "cell_type": "code",
   "execution_count": 101,
   "metadata": {},
   "outputs": [
    {
     "data": {
      "text/plain": [
       "MLPClassifier(activation='relu', alpha=0.0001, batch_size='auto', beta_1=0.9,\n",
       "       beta_2=0.999, early_stopping=False, epsilon=1e-08,\n",
       "       hidden_layer_sizes=(30, 30, 30), learning_rate='constant',\n",
       "       learning_rate_init=0.001, max_iter=200, momentum=0.9,\n",
       "       nesterovs_momentum=True, power_t=0.5, random_state=None,\n",
       "       shuffle=True, solver='adam', tol=0.0001, validation_fraction=0.1,\n",
       "       verbose=False, warm_start=False)"
      ]
     },
     "execution_count": 101,
     "metadata": {},
     "output_type": "execute_result"
    }
   ],
   "source": [
    "mlp.fit(X_train,y_train)"
   ]
  },
  {
   "cell_type": "code",
   "execution_count": 102,
   "metadata": {
    "collapsed": true
   },
   "outputs": [],
   "source": [
    "predictions = mlp.predict(X_test)"
   ]
  },
  {
   "cell_type": "code",
   "execution_count": 103,
   "metadata": {},
   "outputs": [
    {
     "name": "stdout",
     "output_type": "stream",
     "text": [
      "[[31  0]\n",
      " [12 27]]\n"
     ]
    }
   ],
   "source": [
    "from sklearn.metrics import classification_report,confusion_matrix\n",
    "print(confusion_matrix(y_test,predictions))"
   ]
  },
  {
   "cell_type": "code",
   "execution_count": 104,
   "metadata": {},
   "outputs": [
    {
     "name": "stdout",
     "output_type": "stream",
     "text": [
      "Training set score: 0.938\n",
      "Test set score: 0.829\n"
     ]
    }
   ],
   "source": [
    "print(\"Training set score: {:.3f}\".format(mlp.score(X_train, y_train)))\n",
    "print(\"Test set score: {:.3f}\".format(mlp.score(X_test, y_test)))"
   ]
  },
  {
   "cell_type": "code",
   "execution_count": 105,
   "metadata": {},
   "outputs": [],
   "source": [
    "mlp = MLPClassifier(hidden_layer_sizes=(30,30,30), activation='relu', solver='adam')"
   ]
  },
  {
   "cell_type": "markdown",
   "metadata": {},
   "source": [
    "relu: Unidad de correción lineal\n",
    "adam: Optimizador de gradiente estocástico"
   ]
  },
  {
   "cell_type": "code",
   "execution_count": 106,
   "metadata": {},
   "outputs": [
    {
     "data": {
      "text/plain": [
       "MLPClassifier(activation='relu', alpha=0.0001, batch_size='auto', beta_1=0.9,\n",
       "       beta_2=0.999, early_stopping=False, epsilon=1e-08,\n",
       "       hidden_layer_sizes=(30, 30, 30), learning_rate='constant',\n",
       "       learning_rate_init=0.001, max_iter=200, momentum=0.9,\n",
       "       nesterovs_momentum=True, power_t=0.5, random_state=None,\n",
       "       shuffle=True, solver='adam', tol=0.0001, validation_fraction=0.1,\n",
       "       verbose=False, warm_start=False)"
      ]
     },
     "execution_count": 106,
     "metadata": {},
     "output_type": "execute_result"
    }
   ],
   "source": [
    "mlp.fit(X_train,y_train)"
   ]
  },
  {
   "cell_type": "code",
   "execution_count": 107,
   "metadata": {
    "collapsed": true
   },
   "outputs": [],
   "source": [
    "predictions = mlp.predict(X_test)"
   ]
  },
  {
   "cell_type": "code",
   "execution_count": 108,
   "metadata": {},
   "outputs": [
    {
     "name": "stdout",
     "output_type": "stream",
     "text": [
      "[[27  4]\n",
      " [ 2 37]]\n"
     ]
    }
   ],
   "source": [
    "from sklearn.metrics import classification_report,confusion_matrix\n",
    "print(confusion_matrix(y_test,predictions))"
   ]
  },
  {
   "cell_type": "code",
   "execution_count": 109,
   "metadata": {},
   "outputs": [
    {
     "name": "stdout",
     "output_type": "stream",
     "text": [
      "Training set score: 0.995\n",
      "Test set score: 0.914\n"
     ]
    }
   ],
   "source": [
    "print(\"Training set score: {:.3f}\".format(mlp.score(X_train, y_train)))\n",
    "print(\"Test set score: {:.3f}\".format(mlp.score(X_test, y_test)))"
   ]
  }
 ],
 "metadata": {
  "kernelspec": {
   "display_name": "Python 3",
   "language": "python",
   "name": "python3"
  },
  "language_info": {
   "codemirror_mode": {
    "name": "ipython",
    "version": 3
   },
   "file_extension": ".py",
   "mimetype": "text/x-python",
   "name": "python",
   "nbconvert_exporter": "python",
   "pygments_lexer": "ipython3",
   "version": "3.6.2"
  }
 },
 "nbformat": 4,
 "nbformat_minor": 2
}
